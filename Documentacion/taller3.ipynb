{
 "cells": [
  {
   "attachments": {},
   "cell_type": "markdown",
   "metadata": {},
   "source": [
    "# Taller de Algoritmos Dinámicos\n",
    "- Santiago Andrés Leal Omaña\n",
    "- Santiago Guerrero Vargas"
   ]
  },
  {
   "attachments": {},
   "cell_type": "markdown",
   "metadata": {},
   "source": [
    "## Parte 1\n",
    "### Analisis y diseño del problema \n",
    "\n",
    "#### Analisis \n",
    "El problema para resolver es encontrar la subsecuencia contigua en una secuencia de números reales que produce el mayor producto acumulado en comparación al resto de la secuencia. Es decir, se debe buscar una subsecuencia de la secuencia original, tal que, al multiplicar todos sus elementos, se obtiene el producto máximo en comparación con todas las demás subsecuencias.\n",
    "\n",
    "Este problema se puede abordar mediante el uso de un algoritmo eficiente que recorra la secuencia y calcule el producto acumulado de cada subsecuencia, para luego compararlas y encontrar la subsecuencia con el mayor producto. Sin embargo, debido a que hay un número infinito de subsecuencias posibles en una secuencia de longitud n, se necesitará un enfoque más eficiente para resolver este problema.\n",
    "\n",
    "#### Diseño\n",
    "\n",
    "Entrada: Una secuencia de números reales de longitud n.\n",
    "\n",
    "Salida: Una subsecuencia con el producto mayor.\n",
    "\n",
    "#### Objetivo \n",
    "Escribir tres algoritmos (evidente recursivo, memorizado y bottom-up) asociados a un diseño de un problema que se puede resolver, usando la estrategia de programación dinámica.\n",
    "\n",
    "### Subsecuencia de producto máxima\n",
    "El desarrollo del taller consistirá en analizar tres algoritmos asociados al problema de encontrar para una secuencia de\n",
    "elementos X = ⟨x1, . . . , xn⟩, xi ∈ R la subsecuencia de elementos contiguos cuyo producto es máximo.\n",
    "\n",
    "Por ejemplo, para la subsecuencia ejemplo X = ⟨−7, 12, −7, 0, 14, −7, 5⟩, la subsecuencia contigua de elementos contiguos\n",
    "cuyo producto es máximo es X[1 : 3]\n",
    "\n"
   ]
  },
  {
   "attachments": {},
   "cell_type": "markdown",
   "metadata": {},
   "source": [
    "## Parte 2\n",
    "### Algoritmos \n",
    "A continuacion se muestran los 3 algortimos realizados para la solución de nuestro problema.\n",
    "\n",
    "#### Recursivo\n",
    "Este algortimo evalua un intervalo incial, que va desde el incio de la secuencia incial, y en cada llamado iterativo va recortando el intervalo a usar, posteriormente se compara cada llamado recursivo en busqueda por el que posea el mayor valor (producto) y este es el que se retorna.\n",
    "\n",
    "*pseudocodigo*\n",
    "\n",
    "##### Complejidad\n",
    "Para poder definir la complejidad, se usa el teorema maestro para calcular el Big_O del algoritmo.\n",
    "\n",
    "$T(n) = 2T(n-1) + O(1)$ \n",
    "\n",
    "Esta ecuacion puede ser evaluada de igual manera que el algoritmo recursivo de fibonnaci, entonces, podemos definir la complejidad en $O(2^n)$, la razón por la que es $O(2^n)$ se debe a que en cada llamada recursiva, se dividen los elementos en dos subsecuencias, lo que implica que hay un máximo de $2^n$ posibles subsecuencias. Además, como se realiza una multiplicación para cada subsecuencia, la complejidad de tiempo real total es de $O(n * 2^n)$, lo que significa que el algoritmo no es práctico para tamaños de entrada grandes.\n",
    "##### Invariante \n",
    "\n",
    "Se busca encontrar el intervalo interno con el producto maximo, dentro de la secuencia dada.\n",
    "\n",
    "- **Inicio:** Se sabe que el producto maximo existe dentro de la secuencia, por lo que se inicia buscando dentro de toda la secuencia desde la posicion 0 y la ultima posición.\n",
    "- **Avance:** Como puede que la secuencia completa no sea el producto maximo de la misma, se vuelve a llamar la recursion corriendo ambos indices, el inicio se mueve hacia la derecha y el final hacia la izquierda.\n",
    "- **Final:** Cuando la secuencia en la que se esta buscando corresponde a un solo elemento se detiene la recursion y se retorna el valor que existe en esa secuencia \n",
    "\n",
    "##### Notas de implementacion\n",
    "En este caso el taller fue realizado en el lenguaje python para poder obtener una solucion mas simple y con una sintaxis mas corta.\n",
    "#### Top-Bottom (Memorizado recursivo) \n",
    "En este algoritmo se usa matriz para poder memorizar el producto posible de cada intervalo que existe, por lo que en cada llamado recursivo verificamos si el producto que deseamos obtener ya fue calculado, y de lo contrario se calcula el producto dentro de ese intervalo.\n",
    "\n",
    "*pseudocodigo*\n",
    "\n",
    "##### Complejidad\n",
    "\n",
    "\n",
    "\n",
    "#### Buttom-Up (Memorizado)"
   ]
  },
  {
   "attachments": {},
   "cell_type": "markdown",
   "metadata": {},
   "source": [
    "## Parte 3\n",
    "### Comparacion de algoritmos\n",
    "#### Tabla\n",
    "Tomando en cuenta la siguiente tabla "
   ]
  },
  {
   "attachments": {},
   "cell_type": "markdown",
   "metadata": {},
   "source": [
    "| Número de elementos | Recursivo    | Memorizado    | Tabulado     |\n",
    "|---------------------|--------------|--------------|--------------|\n",
    "| 1                   | 0.000000000000000    | 0.001009225845337    | 0.000000000000000   |\n",
    "| 2                   | 0.000000000000000    | 0.000000000000000    | 0.001460313796997   |\n",
    "| 3                   | 0.000000000000000    | 0.000000000000000    | 0.000000000000000   |\n",
    "| 4                   | 0.001002311706543    | 0.000000000000000    | 0.000000000000000   |\n",
    "| 5                   | 0.000000000000000    | 0.001001358032227    | 0.000000000000000   |\n",
    "| 6                   | 0.000000000000000    | 0.001001834869385    | 0.000000000000000   |\n",
    "| 7                   | 0.000000000000000    | 0.001198768615723    | 0.000000000000000   |\n",
    "| 8                   | 0.000000000000000    | 0.001259803771973    | 0.000000000000000   |\n",
    "| 9                   | 0.001420736312866    | 0.000000000000000    | 0.000000000000000   |\n",
    "| 10                  | 0.001997709274292    | 0.000000000000000    | 0.001000404357910   |\n",
    "| 11                  | 0.002469778060913    | 0.000997543334961    | 0.000000000000000   |\n",
    "| 12                  | 0.005327701568604    | 0.000997543334961    | 0.001005887985229   |\n",
    "| 13                  | 0.010728359222412    | 0.000000000000000    | 0.001020431518555   |\n",
    "| 14                  | 0.018995046615601    | 0.001003980636597    | 0.000000000000000   |\n",
    "| 15                  | 0.039257287979126    | 0.000998735427856    | 0.000000000000000   |\n",
    "| 16                  | 0.079669475555420    | 0.001003980636597    | 0.001000404357910   |\n",
    "| 17                  | 0.166922807693481    | 0.000000000000000    | 0.000999212265015   |\n",
    "| 18                  | 0.308875560760498    | 0.002153158187866    | 0.001008272171021   |\n",
    "| 19                  | 0.636044025421143    | 0.001071453094482    | 0.000000000000000   |\n",
    "| 20                  | 1.228482246398926    | 0.001003265380859    | 0.000998973846436   |\n",
    "| 21                  | 2.368465423583984    | 0.001030445098877    | 0.000987768173218   |\n",
    "| 22                  | 4.770162343978882    | 0.001506090164185    | 0.000515222549438   |\n",
    "| 23                  | 9.434110164642334    | 0.001267671585083    | 0.001489400863647   |\n",
    "| 24                  | 18.756065368652344   | 0.001566410064697    | 0.001013755798340   |\n",
    "| 25                  | 37.797737598419189   | 0.001954793930054    | 0.001538753509521   |\n",
    "| 26                  | 76.355279445648193   | 0.002066373825073    | 0.000000000000000   |\n",
    "| 27                  | 153.477586984634399  | 0.002011299133301    | 0.000999212265015   |\n",
    "| 28                  | 317.570328235626221  | 0.002567529678345    | 0.001086711883545   |"
   ]
  },
  {
   "attachments": {},
   "cell_type": "markdown",
   "metadata": {},
   "source": [
    "Observando esta tabla, se puede ver que para la mayoría de los casos, el algoritmo tabulado es el más rápido de los tres. Sin embargo, hay algunos casos donde el algoritmo memorizado es más rápido. En general, el algoritmo recursivo es el más lento y menos eficiente, especialmente cuando el número de elementos se vuelve grande."
   ]
  },
  {
   "attachments": {},
   "cell_type": "markdown",
   "metadata": {},
   "source": [
    "#### Grafica\n",
    "Después de realizar el análisis y la obtención de datos a través de los algoritmos implementados, se procede a tabular dicha información. Con el fin de poder graficar estos resultados de manera clara y concisa se empleará la librería \"pandas\" de Python.\n",
    "\n",
    "La generación de gráficos es una técnica fundamental para visualizar la información obtenida de un estudio. Asimismo, esto permite interpretar y analizar de manera fácil los datos obtenidos. A través de esta herramienta, podemos apreciar de manera más sencilla cuáles son los valores más representativos, las tendencias y patrones dentro del conjunto de datos procesados.\n",
    "\n",
    "Por lo tanto, se muestra a continuación la tabla con los resultados de los 28 datos procesados por los algoritmos implementados para su posterior visualización de manera gráfica."
   ]
  },
  {
   "attachments": {},
   "cell_type": "markdown",
   "metadata": {},
   "source": [
    "![GraficoAlgoritmos](GraficoAlgoritmos.jpg)"
   ]
  },
  {
   "attachments": {},
   "cell_type": "markdown",
   "metadata": {},
   "source": [
    "Después de realizar el análisis y la comparación entre los algoritmos mediante la tabla y las gráficas obtenidas gracias a la librería \"pandas\" de Python, se puede apreciar claramente que los algoritmos basados en memoria son significativamente mejores que el algoritmo recursivo. Es importante destacar que, el algoritmo recursivo alcanza valores exponencialmente superiores a partir de la iteración número 20.\n",
    "\n",
    "\n",
    "### Regresion OLS\n",
    "\n",
    "En última instancia, es imprescindible realizar una comparación exhaustiva entre la complejidad práctica calculada y la complejidad teórica expresada como f(n). Para llevar a cabo este análisis, se empleará la librería de Python denominada \"statsmodels\", gracias a la cual podremos contrastar los resultados tabulados con la función de complejidad mediante la aplicación de una regresión OLS (regresión por mínimos cuadrados ordinarios). Esta herramienta matemática cuenta con dos indicadores clave que nos permitirán evaluar la calidad del ajuste obtenido. El primero de ellos es el coeficiente de determinación, también conocido como R-squared, el cual adopta valores entre 0 y 1. Cuanto más cercano sea este valor a 1, mayor será el grado de ajuste proporcionado por la regresión. Por otro lado, el segundo indicador que se utilizará es el coeficiente de correlación, cuyo cálculo se basa en la relación existente entre dos variables. De esta forma, su análisis permitirá obtener un valor preciso del tiempo requerido para un valor dado de n.\n",
    "\n",
    "#### Recursivo\n",
    "![TablaOLS](OLSTABLA1.jpg)\n",
    "![GraficoOLS](OLSGRAFICO1.jpg)\n",
    "\n",
    "La tabla presentada muestra los resultados de la regresión OLS aplicada a los datos tabulados del algoritmo recursivo. El valor R-squared, que representa el coeficiente de determinación, tiene un valor de 1.000, lo que indica que la dispersión observada en los datos se ajusta perfectamente a la complejidad identificada. Además, el coeficiente denominado como 'coef' tiene un valor de 1.174 × 10−6, lo que permite establecer una relación exacta entre ambos factores.\n",
    "\n",
    "Por lo tanto, se puede afirmar que la ecuación del tiempo dado n elementos está correctamente representada por la regresión OLS obtenida a partir de los datos tabulados del algoritmo recursivo. En consecuencia, esta ecuación puede ser utilizada para predecir el tiempo requerido para ejecutar el algoritmo en función del número de elementos que se estén procesando.\n",
    "#### Memorizado\n",
    "![TablaOLS](OLSTABLA2.jpg)\n",
    "![GraficoOLS](OLSGRAFICO2.jpg)\n",
    "\n",
    "En la tabla presentada se muestran los resultados de la regresión OLS aplicada a los datos tabulados del algoritmo implementado. El valor R-squared, que representa el coeficiente de determinación, es de 0.560, lo que indica que la dispersión observada en los datos tiene una relación positiva con la complejidad identificada. Además, el coeficiente denominado como 'coef' tiene un valor de 8.229 × 10−8, lo que permite establecer una relación entre el tiempo requerido para ejecutar el algoritmo y el número de elementos que se están procesando.\n",
    "\n",
    "Así pues, se puede afirmar que la ecuación del tiempo dado n elementos está correctamente representada por la regresión OLS obtenida a partir de los datos tabulados del algoritmo implementado. En consecuencia, esta ecuación puede ser utilizada para predecir el tiempo requerido para ejecutar el algoritmo en función del número de elementos que se estén procesando.\n",
    "\n",
    "#### Tabulado\n",
    "![TablaOLS](OLSTABLA3.jpg)\n",
    "![GraficoOLS](OLSGRAFICO3.jpg)\n",
    "\n",
    "El valor de R-squared obtenido es de 0.207, lo que indica que el modelo de regresión utilizado explica únicamente un 20.7% de la variabilidad de la variable dependiente en función de la variable independiente.\n",
    "El valor del coeficiente de regresión denominado 'coef' es 3.918e-08, lo que sugiere una relación muy débil entre las variables.\n",
    "Se puede observar que tanto el intercepto como la variable independiente tienen valores significativos, lo que sugiere que ambos términos son importantes para explicar la variabilidad de la variable dependiente.\n",
    "En general, se podría afirmar que la relación entre las variables no es muy fuerte y que el modelo utilizado no explica bien la variabilidad en la variable dependiente, sin embargo la complejidad teorica si es la presentada.\n"
   ]
  },
  {
   "attachments": {},
   "cell_type": "markdown",
   "metadata": {},
   "source": [
    "## Parte 4\n",
    "### Pruebas Unitarias\n",
    "Las pruebas unitarias son una técnica de programación que consiste en realizar pruebas exhaustivas a un conjunto de funciones o métodos, de manera individual y controlada, con el objetivo de verificar el correcto funcionamiento del código, antes de ser implementado.\n",
    "\n",
    "En el caso de los algoritmos dinámicos, estas pruebas son particularmente importantes, ya que estos algoritmos utilizan técnicas complejas y recursivas, donde es fácil caer en la generación de errores sutiles que pueden llevar a resultados inconsistentes.\n",
    "A continuación se presenta una breve explicación de cada prueba unitaria:\n",
    "\n",
    "- test_case_0: se comprueba que el algoritmo implementado en las funciones `Recursive`, `Memory` y `BottomUp` retorna correctamente los valores para un caso base. En este caso, se utiliza una lista con un solo elemento.\n",
    "\n",
    "- test_case_1: se comprueba que el algoritmo implementado en las funciones `Recursive`, `Memory` y `BottomUp` retorna correctamente el valor máximo de una lista con dos elementos, uno de ellos negativo.\n",
    "\n",
    "- test_case_2: se comprueba que el algoritmo implementado en las funciones `Recursive`, `Memory` y `BottomUp` retorna correctamente una lista con tres elementos (dos de ellos negativos).\n",
    "\n",
    "- test_case_3: se comprueba que el algoritmo implementado en las funciones `Recursive`, `Memory` y `BottomUp` retorna correctamente una lista con cuatro elementos (uno de ellos negativo).\n",
    "\n",
    "- test_case_4: se comprueba que el algoritmo implementado en las funciones `Recursive`, `Memory` y `BottomUp` retorna correctamente una lista con cinco elementos (dos de ellos negativos).\n",
    "\n",
    "- test_case_5: se comprueba que el algoritmo implementado en las funciones `Recursive`, `Memory` y `BottomUp` retorna correctamente una lista con seis elementos (tres de ellos negativos).\n",
    "\n",
    "Todas las pruebas fueron exitosas, lo que demuestra que las funciones `Recursive`, `Memory` y `BottomUp` están implementadas correctamente y devuelven los resultados esperados.\n"
   ]
  },
  {
   "attachments": {},
   "cell_type": "markdown",
   "metadata": {},
   "source": [
    "## Parte 5\n",
    "### Codigos usados\n",
    "Todos los codigos usados se pueden encontrar dentro de la carpeta Codigos presentada en este documento"
   ]
  }
 ],
 "metadata": {
  "language_info": {
   "name": "python"
  },
  "orig_nbformat": 4
 },
 "nbformat": 4,
 "nbformat_minor": 2
}
