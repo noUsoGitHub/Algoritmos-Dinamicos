{
 "cells": [
  {
   "attachments": {},
   "cell_type": "markdown",
   "metadata": {},
   "source": [
    "# Taller Algoritmos Dinamicos\n",
    "Santiagos @ Post produccion corregir esto V:"
   ]
  },
  {
   "attachments": {},
   "cell_type": "markdown",
   "metadata": {},
   "source": [
    "# Parte 1\n",
    "## Analisis y diseño del problema \n",
    "\n",
    "### Analisis \n",
    "El problema para resolver es encontrar la subsecuencia contigua en una secuencia de números reales que produce el mayor producto acumulado en comparación al resto de la secuencia. Es decir, se debe buscar una subsecuencia de la secuencia original, tal que, al multiplicar todos sus elementos, se obtiene el producto máximo en comparación con todas las demás subsecuencias.\n",
    "\n",
    "Este problema se puede abordar mediante el uso de un algoritmo eficiente que recorra la secuencia y calcule el producto acumulado de cada subsecuencia, para luego compararlas y encontrar la subsecuencia con el mayor producto. Sin embargo, debido a que hay un número infinito de subsecuencias posibles en una secuencia de longitud n, se necesitará un enfoque más eficiente para resolver este problema.\n",
    "\n",
    "### Diseño\n",
    "\n",
    "Entrada: Una secuencia de números reales de longitud n.\n",
    "\n",
    "Salida: Un par de índices (i, j) que denotan el inicio y el fin de la subsecuencia con el producto mayor.\n",
    "\n",
    "### Objetivo \n",
    "Escribir tres algoritmos (evidente recursivo, memorizado y bottom-up) asociados a un diseño de un problema que se puede resolver, usando la estrategia de programación dinámica.\n",
    "\n",
    "## Subsecuencia de producto máxima\n",
    "El desarrollo del taller consistirá en analizar tres algoritmos asociados al problema de encontrar para una secuencia de\n",
    "elementos X = ⟨x1, . . . , xn⟩, xi ∈ R la subsecuencia de elementos contiguos cuyo producto es máximo.\n",
    "\n",
    "Por ejemplo, para la subsecuencia ejemplo X = ⟨−7, 12, −7, 0, 14, −7, 5⟩, la subsecuencia contigua de elementos contiguos\n",
    "cuyo producto es máximo es X[1 : 3]\n",
    "\n"
   ]
  },
  {
   "attachments": {},
   "cell_type": "markdown",
   "metadata": {},
   "source": [
    "# Parte 2\n",
    "## Algoritmos \n",
    "A continuacion se muestran los 3 algortimos realizados para la solución de nuestro problema.\n",
    "\n",
    "### Recursivo\n",
    "Este algortimo evalua un intervalo incial, que va desde el incio de la secuencia incial, y en cada llamado iterativo va recortando el intervalo a usar, posteriormente se compara cada llamado recursivo en busqueda por el que posea el mayor valor (producto) y este es el que se retorna.\n",
    "\n",
    "*pseudocodigo*\n",
    "\n",
    "#### Complejidad\n",
    "Para poder definir la complejidad, se usa el teorema maestro para calcular el Big_O del algoritmo.\n",
    "\n",
    "$T(n) = 2T(n-1) + O(1)$ \n",
    "\n",
    "Esta ecuacion puede ser evaluada de igual manera que el algoritmo recursivo de fibonnaci, entonces, podemos definir la complejidad en $O(2^n)$, la razón por la que es $O(2^n)$ se debe a que en cada llamada recursiva, se dividen los elementos en dos subsecuencias, lo que implica que hay un máximo de $2^n$ posibles subsecuencias. Además, como se realiza una multiplicación para cada subsecuencia, la complejidad de tiempo real total es de $O(n * 2^n)$, lo que significa que el algoritmo no es práctico para tamaños de entrada grandes.\n",
    "#### Invariante \n",
    "\n",
    "Se busca encontrar el intervalo interno con el producto maximo, dentro de la secuencia dada.\n",
    "\n",
    "- **Inicio:** Se sabe que el producto maximo existe dentro de la secuencia, por lo que se inicia buscando dentro de toda la secuencia desde la posicion 0 y la ultima posición.\n",
    "- **Avance:** Como puede que la secuencia completa no sea el producto maximo de la misma, se vuelve a llamar la recursion corriendo ambos indices, el inicio se mueve hacia la derecha y el final hacia la izquierda.\n",
    "- **Final:** Cuando la secuencia en la que se esta buscando corresponde a un solo elemento se detiene la recursion y se retorna el valor que existe en esa secuencia \n",
    "\n",
    "#### Notas de implementacion\n",
    "En este caso el taller fue realizado en el lenguaje python para poder obtener una solucion mas simple y con una sintaxis mas corta.\n",
    "### Top-Bottom (Memorizado recursivo) \n",
    "En este algoritmo se usa matriz para poder memorizar el producto posible de cada intervalo que existe, por lo que en cada llamado recursivo verificamos si el producto que deseamos obtener ya fue calculado, y de lo contrario se calcula el producto dentro de ese intervalo.\n",
    "\n",
    "*pseudocodigo*\n",
    "\n",
    "#### Complejidad\n",
    "\n",
    "\n",
    "\n",
    "### Buttom-Up (Memorizado)"
   ]
  },
  {
   "attachments": {},
   "cell_type": "markdown",
   "metadata": {},
   "source": [
    "# Parte 3\n",
    "## Comparacion de algoritmos\n",
    "Tomando en cuenta "
   ]
  }
 ],
 "metadata": {
  "language_info": {
   "name": "python"
  },
  "orig_nbformat": 4
 },
 "nbformat": 4,
 "nbformat_minor": 2
}
