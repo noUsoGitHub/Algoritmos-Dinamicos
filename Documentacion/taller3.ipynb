{
 "cells": [
  {
   "attachments": {},
   "cell_type": "markdown",
   "metadata": {},
   "source": [
    "# Taller Algoritmos Dinamicos\n",
    "Santiagos @ Post produccion corregir esto V:"
   ]
  },
  {
   "attachments": {},
   "cell_type": "markdown",
   "metadata": {},
   "source": [
    "## Objetivo\n",
    "\n",
    "Escribir tres algoritmos (evidente recursivo, memorizado y bottom-up) asociados a un diseño de un problema que se puede resolver\n",
    "usando la estrategia de programación dinámica.\n",
    "\n",
    "## Subsecuencia de producto máxima\n",
    "El desarrollo del taller consistirá en analizar tres algoritmos asociados al problema de encontrar para una secuencia de\n",
    "elementos X = ⟨x1, . . . , xn⟩, xi ∈ R la subsecuencia de elementos contiguos cuyo producto es máximo.\n",
    "\n",
    "Por ejemplo, para la subsecuencia ejemplo X = ⟨−7, 12, −7, 0, 14, −7, 5⟩, la subsecuencia contigua de elementos contiguos\n",
    "cuyo producto es máximo es X[1 : 3]\n",
    "\n",
    "## Análisis y diseño del problema\n",
    "\n",
    "El problema consiste en encontrar una subsecuencia de elementos contiguos dentro de una secuencia dada, cuyo producto sea máximo. Para resolver este problema, se pueden utilizar tres algoritmos asociados a la estrategia de programación dinámica: recursivo, memoizado y bottom-up.\n",
    "\n",
    "Este problema se puede abordar mediante el uso de un algoritmo eficiente que recorra la secuencia y calcule el producto acumulado de cada subsecuencia, para luego compararlas y encontrar la subsecuencia con el mayor producto. Sin embargo, debido a que hay un número infinito de subsecuencias posibles en una secuencia de longitud n, se necesitará un enfoque más eficiente para resolver este problema.\n",
    "\n",
    "### Diseño\n",
    "\n",
    "Entrada: Una secuencia X = ⟨x1, . . . , xn⟩, xi ∈ R .\n",
    "\n",
    "Salida: Una sub-secuencia Xsub = ⟨xa, . . . , xb⟩, xj ∈ R donde los elementos contiguos son el producto maximo de la secuencia X."
   ]
  }
 ],
 "metadata": {
  "language_info": {
   "name": "python"
  },
  "orig_nbformat": 4
 },
 "nbformat": 4,
 "nbformat_minor": 2
}
